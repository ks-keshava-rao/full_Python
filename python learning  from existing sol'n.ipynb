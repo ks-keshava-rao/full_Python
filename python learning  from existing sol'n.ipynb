{
 "cells": [
  {
   "cell_type": "code",
   "execution_count": 1,
   "metadata": {},
   "outputs": [
    {
     "name": "stdout",
     "output_type": "stream",
     "text": [
      "original dictonary: {1: 2, 3: 4, 4: 3, 2: 1, 0: 0}\n",
      "dictionary in ascending order: {0: 0, 2: 1, 1: 2, 4: 3, 3: 4}\n",
      "dictionary in descending order: {3: 4, 4: 3, 1: 2, 2: 1, 0: 0}\n"
     ]
    }
   ],
   "source": [
    "import operator\n",
    "d = {1: 2, 3: 4 , 4: 3, 2: 1, 0: 0}\n",
    "print('original dictonary:' ,d)\n",
    "sorted_d = dict(sorted(d.items(), key=operator.itemgetter(1)))\n",
    "print('dictionary in ascending order:',sorted_d)\n",
    "sorted_d = dict(sorted(d.items(), key = operator.itemgetter(1), reverse=True))\n",
    "print('dictionary in descending order:',sorted_d)\n",
    "\n"
   ]
  },
  {
   "cell_type": "code",
   "execution_count": 2,
   "metadata": {},
   "outputs": [
    {
     "name": "stdout",
     "output_type": "stream",
     "text": [
      "{1: 10, 2: 20, 3: 30, 4: 40, 5: 50, 6: 60}\n"
     ]
    }
   ],
   "source": [
    "dic1={1:10, 2:20}\n",
    "dic2={3:30, 4:40}\n",
    "dic3={5:50,6:60}\n",
    "dic4 = {}\n",
    "for d in (dic1, dic2, dic3): dic4.update(d)\n",
    "print(dic4)"
   ]
  },
  {
   "cell_type": "markdown",
   "metadata": {},
   "source": [
    "# 1.Write a Python program to iterate over dictionaries using for loops."
   ]
  },
  {
   "cell_type": "code",
   "execution_count": 3,
   "metadata": {},
   "outputs": [
    {
     "name": "stdout",
     "output_type": "stream",
     "text": [
      "x --> 10\n",
      "y --> 20\n",
      "z --> 30\n"
     ]
    }
   ],
   "source": [
    "d = {'x': 10, 'y': 20, 'z': 30} \n",
    "for dict_key, dict_values in d.items():\n",
    "    print(dict_key,'-->',dict_values)\n"
   ]
  },
  {
   "cell_type": "markdown",
   "metadata": {},
   "source": [
    "# 2.Write a Python script to generate and print a dictionary that contains a number (between 1 and n) in the form (x, x*x)."
   ]
  },
  {
   "cell_type": "code",
   "execution_count": 4,
   "metadata": {},
   "outputs": [
    {
     "name": "stdout",
     "output_type": "stream",
     "text": [
      "input a number 446\n",
      "{1: 1, 2: 4, 3: 9, 4: 16, 5: 25, 6: 36, 7: 49, 8: 64, 9: 81, 10: 100, 11: 121, 12: 144, 13: 169, 14: 196, 15: 225, 16: 256, 17: 289, 18: 324, 19: 361, 20: 400, 21: 441, 22: 484, 23: 529, 24: 576, 25: 625, 26: 676, 27: 729, 28: 784, 29: 841, 30: 900, 31: 961, 32: 1024, 33: 1089, 34: 1156, 35: 1225, 36: 1296, 37: 1369, 38: 1444, 39: 1521, 40: 1600, 41: 1681, 42: 1764, 43: 1849, 44: 1936, 45: 2025, 46: 2116, 47: 2209, 48: 2304, 49: 2401, 50: 2500, 51: 2601, 52: 2704, 53: 2809, 54: 2916, 55: 3025, 56: 3136, 57: 3249, 58: 3364, 59: 3481, 60: 3600, 61: 3721, 62: 3844, 63: 3969, 64: 4096, 65: 4225, 66: 4356, 67: 4489, 68: 4624, 69: 4761, 70: 4900, 71: 5041, 72: 5184, 73: 5329, 74: 5476, 75: 5625, 76: 5776, 77: 5929, 78: 6084, 79: 6241, 80: 6400, 81: 6561, 82: 6724, 83: 6889, 84: 7056, 85: 7225, 86: 7396, 87: 7569, 88: 7744, 89: 7921, 90: 8100, 91: 8281, 92: 8464, 93: 8649, 94: 8836, 95: 9025, 96: 9216, 97: 9409, 98: 9604, 99: 9801, 100: 10000, 101: 10201, 102: 10404, 103: 10609, 104: 10816, 105: 11025, 106: 11236, 107: 11449, 108: 11664, 109: 11881, 110: 12100, 111: 12321, 112: 12544, 113: 12769, 114: 12996, 115: 13225, 116: 13456, 117: 13689, 118: 13924, 119: 14161, 120: 14400, 121: 14641, 122: 14884, 123: 15129, 124: 15376, 125: 15625, 126: 15876, 127: 16129, 128: 16384, 129: 16641, 130: 16900, 131: 17161, 132: 17424, 133: 17689, 134: 17956, 135: 18225, 136: 18496, 137: 18769, 138: 19044, 139: 19321, 140: 19600, 141: 19881, 142: 20164, 143: 20449, 144: 20736, 145: 21025, 146: 21316, 147: 21609, 148: 21904, 149: 22201, 150: 22500, 151: 22801, 152: 23104, 153: 23409, 154: 23716, 155: 24025, 156: 24336, 157: 24649, 158: 24964, 159: 25281, 160: 25600, 161: 25921, 162: 26244, 163: 26569, 164: 26896, 165: 27225, 166: 27556, 167: 27889, 168: 28224, 169: 28561, 170: 28900, 171: 29241, 172: 29584, 173: 29929, 174: 30276, 175: 30625, 176: 30976, 177: 31329, 178: 31684, 179: 32041, 180: 32400, 181: 32761, 182: 33124, 183: 33489, 184: 33856, 185: 34225, 186: 34596, 187: 34969, 188: 35344, 189: 35721, 190: 36100, 191: 36481, 192: 36864, 193: 37249, 194: 37636, 195: 38025, 196: 38416, 197: 38809, 198: 39204, 199: 39601, 200: 40000, 201: 40401, 202: 40804, 203: 41209, 204: 41616, 205: 42025, 206: 42436, 207: 42849, 208: 43264, 209: 43681, 210: 44100, 211: 44521, 212: 44944, 213: 45369, 214: 45796, 215: 46225, 216: 46656, 217: 47089, 218: 47524, 219: 47961, 220: 48400, 221: 48841, 222: 49284, 223: 49729, 224: 50176, 225: 50625, 226: 51076, 227: 51529, 228: 51984, 229: 52441, 230: 52900, 231: 53361, 232: 53824, 233: 54289, 234: 54756, 235: 55225, 236: 55696, 237: 56169, 238: 56644, 239: 57121, 240: 57600, 241: 58081, 242: 58564, 243: 59049, 244: 59536, 245: 60025, 246: 60516, 247: 61009, 248: 61504, 249: 62001, 250: 62500, 251: 63001, 252: 63504, 253: 64009, 254: 64516, 255: 65025, 256: 65536, 257: 66049, 258: 66564, 259: 67081, 260: 67600, 261: 68121, 262: 68644, 263: 69169, 264: 69696, 265: 70225, 266: 70756, 267: 71289, 268: 71824, 269: 72361, 270: 72900, 271: 73441, 272: 73984, 273: 74529, 274: 75076, 275: 75625, 276: 76176, 277: 76729, 278: 77284, 279: 77841, 280: 78400, 281: 78961, 282: 79524, 283: 80089, 284: 80656, 285: 81225, 286: 81796, 287: 82369, 288: 82944, 289: 83521, 290: 84100, 291: 84681, 292: 85264, 293: 85849, 294: 86436, 295: 87025, 296: 87616, 297: 88209, 298: 88804, 299: 89401, 300: 90000, 301: 90601, 302: 91204, 303: 91809, 304: 92416, 305: 93025, 306: 93636, 307: 94249, 308: 94864, 309: 95481, 310: 96100, 311: 96721, 312: 97344, 313: 97969, 314: 98596, 315: 99225, 316: 99856, 317: 100489, 318: 101124, 319: 101761, 320: 102400, 321: 103041, 322: 103684, 323: 104329, 324: 104976, 325: 105625, 326: 106276, 327: 106929, 328: 107584, 329: 108241, 330: 108900, 331: 109561, 332: 110224, 333: 110889, 334: 111556, 335: 112225, 336: 112896, 337: 113569, 338: 114244, 339: 114921, 340: 115600, 341: 116281, 342: 116964, 343: 117649, 344: 118336, 345: 119025, 346: 119716, 347: 120409, 348: 121104, 349: 121801, 350: 122500, 351: 123201, 352: 123904, 353: 124609, 354: 125316, 355: 126025, 356: 126736, 357: 127449, 358: 128164, 359: 128881, 360: 129600, 361: 130321, 362: 131044, 363: 131769, 364: 132496, 365: 133225, 366: 133956, 367: 134689, 368: 135424, 369: 136161, 370: 136900, 371: 137641, 372: 138384, 373: 139129, 374: 139876, 375: 140625, 376: 141376, 377: 142129, 378: 142884, 379: 143641, 380: 144400, 381: 145161, 382: 145924, 383: 146689, 384: 147456, 385: 148225, 386: 148996, 387: 149769, 388: 150544, 389: 151321, 390: 152100, 391: 152881, 392: 153664, 393: 154449, 394: 155236, 395: 156025, 396: 156816, 397: 157609, 398: 158404, 399: 159201, 400: 160000, 401: 160801, 402: 161604, 403: 162409, 404: 163216, 405: 164025, 406: 164836, 407: 165649, 408: 166464, 409: 167281, 410: 168100, 411: 168921, 412: 169744, 413: 170569, 414: 171396, 415: 172225, 416: 173056, 417: 173889, 418: 174724, 419: 175561, 420: 176400, 421: 177241, 422: 178084, 423: 178929, 424: 179776, 425: 180625, 426: 181476, 427: 182329, 428: 183184, 429: 184041, 430: 184900, 431: 185761, 432: 186624, 433: 187489, 434: 188356, 435: 189225, 436: 190096, 437: 190969, 438: 191844, 439: 192721, 440: 193600, 441: 194481, 442: 195364, 443: 196249, 444: 197136, 445: 198025, 446: 198916}\n"
     ]
    }
   ],
   "source": [
    "n = int(input(\"input a number \"))\n",
    "d = dict()\n",
    "\n",
    "for x in range(1,n+1):\n",
    "    d[x]=x*x\n",
    "    \n",
    "print(d)"
   ]
  },
  {
   "cell_type": "markdown",
   "metadata": {},
   "source": [
    "# 3.Write a Python script to print a dictionary where the keys are numbers between 1 and 15 (both included) and the values are square of keys."
   ]
  },
  {
   "cell_type": "code",
   "execution_count": 24,
   "metadata": {},
   "outputs": [
    {
     "name": "stdout",
     "output_type": "stream",
     "text": [
      "{1: 1, 2: 4, 3: 9, 4: 16, 5: 25, 6: 36, 7: 49, 8: 64, 9: 81, 10: 100, 11: 121, 12: 144, 13: 169, 14: 196, 15: 225}\n"
     ]
    }
   ],
   "source": [
    "d = dict()\n",
    "for x in range(1,16):\n",
    "    d[x] = x**2\n",
    "print(d)    "
   ]
  },
  {
   "cell_type": "markdown",
   "metadata": {},
   "source": [
    "# 4.Write a Python script to merge two Python dictionaries.\n",
    "\n"
   ]
  },
  {
   "cell_type": "code",
   "execution_count": 25,
   "metadata": {},
   "outputs": [
    {
     "name": "stdout",
     "output_type": "stream",
     "text": [
      "{'A': 100, 'B': 200, 'X': 300, 'Y': 400}\n"
     ]
    }
   ],
   "source": [
    "d1 = {'A' : 100, 'B': 200}\n",
    "d2 = {'X' : 300, 'Y' : 400}\n",
    "d = d1.copy()\n",
    "d.update(d2)\n",
    "print(d)"
   ]
  },
  {
   "cell_type": "markdown",
   "metadata": {},
   "source": [
    "# 5.Write a Python program to iterate over dictionaries using for loops."
   ]
  },
  {
   "cell_type": "code",
   "execution_count": 26,
   "metadata": {},
   "outputs": [
    {
     "name": "stdout",
     "output_type": "stream",
     "text": [
      "Red corresponding to 1\n",
      "Blue corresponding to 2\n",
      "green corresponding to 3\n"
     ]
    }
   ],
   "source": [
    "d = {'Red': 1, 'Blue': 2, 'green': 3}\n",
    "for color_key , value in d.items():\n",
    "    print(color_key, 'corresponding to', d[color_key])"
   ]
  },
  {
   "cell_type": "markdown",
   "metadata": {},
   "source": [
    "# 6.Write a Python program to sum all the items in a dictionary."
   ]
  },
  {
   "cell_type": "code",
   "execution_count": 27,
   "metadata": {},
   "outputs": [
    {
     "name": "stdout",
     "output_type": "stream",
     "text": [
      "79\n"
     ]
    }
   ],
   "source": [
    "pavan = {'r': 34, 'd': -5, 'c': 50 }\n",
    "print(sum(pavan.values()))"
   ]
  },
  {
   "cell_type": "markdown",
   "metadata": {},
   "source": [
    "# 7.Write a Python program to multiply all the items in a dictionary."
   ]
  },
  {
   "cell_type": "code",
   "execution_count": 28,
   "metadata": {},
   "outputs": [
    {
     "name": "stdout",
     "output_type": "stream",
     "text": [
      "72000000\n"
     ]
    }
   ],
   "source": [
    "pavan = {'r': 300, 'f': 400, 'g': 600}\n",
    "result = 1\n",
    "for key in pavan:\n",
    "    result=result *pavan[key]\n",
    "print(result)    \n",
    "    "
   ]
  },
  {
   "cell_type": "markdown",
   "metadata": {},
   "source": [
    "# 8.Write a Python program to remove a key from a dictionary.\n",
    "\n"
   ]
  },
  {
   "cell_type": "code",
   "execution_count": 29,
   "metadata": {},
   "outputs": [
    {
     "name": "stdout",
     "output_type": "stream",
     "text": [
      "{'w': 3, 'r': 4, 'k': 4}\n",
      "{'r': 4, 'k': 4}\n"
     ]
    }
   ],
   "source": [
    "avn = {'w':3, 'r':4, 'k':4}\n",
    "print(avn)\n",
    "if 'w' in avn:\n",
    "    del avn['w']\n",
    "print(avn)    "
   ]
  },
  {
   "cell_type": "markdown",
   "metadata": {},
   "source": [
    "# 9.Write a Python program to map two lists into a dictionary."
   ]
  },
  {
   "cell_type": "code",
   "execution_count": 30,
   "metadata": {},
   "outputs": [
    {
     "name": "stdout",
     "output_type": "stream",
     "text": [
      "{'browny': 'dog', 'thomas': 'cat'}\n"
     ]
    }
   ],
   "source": [
    "pet_name = ['browny', 'thomas']\n",
    "kind = ['dog','cat']\n",
    "pets = dict(zip(pet_name, kind))\n",
    "print(pets)"
   ]
  },
  {
   "cell_type": "code",
   "execution_count": 31,
   "metadata": {},
   "outputs": [
    {
     "name": "stdout",
     "output_type": "stream",
     "text": [
      "{'red': '#FF0000', 'green': '#008000', 'blue': '#0000FF'}\n"
     ]
    }
   ],
   "source": [
    "keys = ['red', 'green', 'blue']\n",
    "values = ['#FF0000','#008000', '#0000FF']\n",
    "color_dictionary = dict(zip(keys, values))\n",
    "print(color_dictionary)"
   ]
  },
  {
   "cell_type": "markdown",
   "metadata": {},
   "source": [
    "# 10.Write a Python program to sort a dictionary by key."
   ]
  },
  {
   "cell_type": "code",
   "execution_count": 32,
   "metadata": {},
   "outputs": [
    {
     "name": "stdout",
     "output_type": "stream",
     "text": [
      "k: 4#\n",
      "r: 6#\n",
      "w: #k\n"
     ]
    }
   ],
   "source": [
    "avn = {'w':'#k',\n",
    "       'r':'6#',\n",
    "       'k': '4#'}\n",
    "for key in sorted(avn):\n",
    "    print(\"%s: %s\" % (key, avn[key]))"
   ]
  },
  {
   "cell_type": "code",
   "execution_count": 33,
   "metadata": {},
   "outputs": [
    {
     "name": "stdout",
     "output_type": "stream",
     "text": [
      "black: #000000\n",
      "green: #008000\n",
      "red: #FF0000\n",
      "white: #FFFFFF\n"
     ]
    }
   ],
   "source": [
    "\n",
    "color_dict = {'red':'#FF0000',\n",
    "          'green':'#008000',\n",
    "          'black':'#000000',\n",
    "          'white':'#FFFFFF'}\n",
    "\n",
    "for key in sorted(color_dict):\n",
    "    print(\"%s: %s\" % (key, color_dict[key]))"
   ]
  },
  {
   "cell_type": "markdown",
   "metadata": {},
   "source": [
    "# 11.Write a Python program to get the maximum and minimum value in a dictionary."
   ]
  },
  {
   "cell_type": "code",
   "execution_count": 34,
   "metadata": {},
   "outputs": [
    {
     "name": "stdout",
     "output_type": "stream",
     "text": [
      "maximum: 80945\n",
      "minimum: 500\n"
     ]
    }
   ],
   "source": [
    "pa_an = {'v': 500,'a': 77790,'d': 80945 }\n",
    "\n",
    "key_max = max(pa_an.keys(), key = (lambda k: pa_an[k]))\n",
    "key_min = min(pa_an.keys(), key = (lambda k: pa_an[k]))\n",
    "\n",
    "print('maximum:',pa_an[key_max])\n",
    "print('minimum:',pa_an[key_min])\n"
   ]
  },
  {
   "cell_type": "code",
   "execution_count": 35,
   "metadata": {},
   "outputs": [
    {
     "name": "stdout",
     "output_type": "stream",
     "text": [
      "Maximum Value:  5874\n",
      "Minimum Value:  500\n"
     ]
    }
   ],
   "source": [
    "my_dict = {'x':500, 'y':5874, 'z': 560}\n",
    "\n",
    "key_max = max(my_dict.keys(), key=(lambda k: my_dict[k]))\n",
    "key_min = min(my_dict.keys(), key=(lambda k: my_dict[k]))\n",
    "\n",
    "print('Maximum Value: ',my_dict[key_max])\n",
    "print('Minimum Value: ',my_dict[key_min])"
   ]
  },
  {
   "cell_type": "markdown",
   "metadata": {},
   "source": [
    "# 12.Write a Python program to get a dictionary from an object's fields."
   ]
  },
  {
   "cell_type": "code",
   "execution_count": 36,
   "metadata": {},
   "outputs": [
    {
     "name": "stdout",
     "output_type": "stream",
     "text": [
      "{'x': 'arial', 'y': 'micro', 'z': 'groot'}\n"
     ]
    }
   ],
   "source": [
    "class dictObj(object):\n",
    "        def __init__(self):\n",
    "             self.x = 'arial'\n",
    "             self.y = 'micro'\n",
    "             self.z = 'groot'\n",
    "        def do_nothing(self):\n",
    "            pass\n",
    "test = dictObj()\n",
    "print(test.__dict__)"
   ]
  },
  {
   "cell_type": "code",
   "execution_count": 37,
   "metadata": {},
   "outputs": [
    {
     "name": "stdout",
     "output_type": "stream",
     "text": [
      "{'x': 'red', 'y': 'Yellow', 'z': 'Green'}\n"
     ]
    }
   ],
   "source": [
    "class dictObj(object):\n",
    "        def __init__(self):\n",
    "             self.x = 'red'\n",
    "             self.y = 'Yellow'\n",
    "             self.z = 'Green'\n",
    "        def do_nothing(self):\n",
    "            pass\n",
    "test = dictObj()\n",
    "print(test.__dict__)"
   ]
  },
  {
   "cell_type": "markdown",
   "metadata": {},
   "source": [
    "# 13.Write a Python program to remove duplicates from Dictionary."
   ]
  },
  {
   "cell_type": "code",
   "execution_count": 38,
   "metadata": {},
   "outputs": [
    {
     "name": "stdout",
     "output_type": "stream",
     "text": [
      "{'id1': {'name': 'runa'}, 'id3': {'name': 'sima'}}\n"
     ]
    }
   ],
   "source": [
    "student = {'id1': {'name': 'runa'},'id2': {'name': 'runa'},'id3': {'name': 'sima'}}\n",
    "result = {}\n",
    "for key,value in student.items():\n",
    "    if value not in result.values():\n",
    "        result[key] = value\n",
    "print(result)"
   ]
  },
  {
   "cell_type": "code",
   "execution_count": 39,
   "metadata": {},
   "outputs": [
    {
     "name": "stdout",
     "output_type": "stream",
     "text": [
      "{'id1': {'name': ['Sara'], 'class': ['V'], 'subject_integration': ['english, math, science']}, 'id2': {'name': ['David'], 'class': ['V'], 'subject_integration': ['english, math, science']}, 'id4': {'name': ['Surya'], 'class': ['V'], 'subject_integration': ['english, math, science']}}\n"
     ]
    }
   ],
   "source": [
    "student_data = {'id1': \n",
    "   {'name': ['Sara'], \n",
    "    'class': ['V'], \n",
    "    'subject_integration': ['english, math, science']\n",
    "   },\n",
    " 'id2': \n",
    "  {'name': ['David'], \n",
    "    'class': ['V'], \n",
    "    'subject_integration': ['english, math, science']\n",
    "   },\n",
    " 'id3': \n",
    "    {'name': ['Sara'], \n",
    "    'class': ['V'], \n",
    "    'subject_integration': ['english, math, science']\n",
    "   },\n",
    " 'id4': \n",
    "   {'name': ['Surya'], \n",
    "    'class': ['V'], \n",
    "    'subject_integration': ['english, math, science']\n",
    "   },\n",
    "}\n",
    "\n",
    "result = {}\n",
    "\n",
    "for key,value in student_data.items():\n",
    "    if value not in result.values():\n",
    "        result[key] = value\n",
    "\n",
    "print(result)"
   ]
  },
  {
   "cell_type": "markdown",
   "metadata": {},
   "source": [
    "# 14.Write a Python program to check a dictionary is empty or not."
   ]
  },
  {
   "cell_type": "code",
   "execution_count": 40,
   "metadata": {},
   "outputs": [
    {
     "name": "stdout",
     "output_type": "stream",
     "text": [
      "dictionary is empty\n"
     ]
    }
   ],
   "source": [
    "pavan = {}\n",
    "if not bool(pavan):\n",
    "    print('dictionary is empty')"
   ]
  },
  {
   "cell_type": "markdown",
   "metadata": {},
   "source": [
    "# 15.Write a Python program to combine two dictionary adding values for common keys."
   ]
  },
  {
   "cell_type": "code",
   "execution_count": 41,
   "metadata": {},
   "outputs": [
    {
     "name": "stdout",
     "output_type": "stream",
     "text": [
      "Counter({2: 11, 1: 5})\n"
     ]
    }
   ],
   "source": [
    "from collections import Counter\n",
    "a = {1: 3, 2: 4}\n",
    "b = {1: 2, 2: 7}\n",
    "d = Counter(a) + Counter(b)\n",
    "print(d)"
   ]
  },
  {
   "cell_type": "markdown",
   "metadata": {},
   "source": [
    "# 16.Write a Python function that takes a sequence of numbers and determines whether all the numbers are different from each other.\n",
    "\n"
   ]
  },
  {
   "cell_type": "code",
   "execution_count": 51,
   "metadata": {},
   "outputs": [
    {
     "name": "stdout",
     "output_type": "stream",
     "text": [
      "True\n",
      "False\n"
     ]
    }
   ],
   "source": [
    "def test_distinct(data):\n",
    "    if len(data)==len(set(data)):\n",
    "        return True\n",
    "    else:\n",
    "        return False;\n",
    "print(test_distinct([1,2,3,4,5]))\n",
    "print(test_distinct([1,2,2,4,4,5]))"
   ]
  },
  {
   "cell_type": "markdown",
   "metadata": {},
   "source": [
    "# 17.Write a Python program to create all possible strings by using 'a', 'e', 'i', 'o', 'u'. Use the characters exactly once.\n",
    "\n"
   ]
  },
  {
   "cell_type": "code",
   "execution_count": 88,
   "metadata": {},
   "outputs": [
    {
     "name": "stdout",
     "output_type": "stream",
     "text": [
      "umkra\n"
     ]
    }
   ],
   "source": [
    "import random\n",
    "char_list=['k','u','m','a','r']\n",
    "random.shuffle(char_list)\n",
    "print(''.join(char_list))"
   ]
  },
  {
   "cell_type": "markdown",
   "metadata": {},
   "source": [
    "# 18.Write a Python program to remove and print every third number from a list of numbers until the list becomes empty."
   ]
  },
  {
   "cell_type": "code",
   "execution_count": 2,
   "metadata": {},
   "outputs": [
    {
     "name": "stdout",
     "output_type": "stream",
     "text": [
      "189\n",
      "3\n",
      "10\n",
      "57\n",
      "509\n",
      "5\n",
      "66\n",
      "9\n"
     ]
    }
   ],
   "source": [
    "def remove_nums(int_list):\n",
    "    poistion = 3-1\n",
    "    idx=0\n",
    "    len_list = (len(int_list))\n",
    "    while len_list>0:\n",
    "        idx =(poistion+idx)%len_list\n",
    "        print(int_list.pop(idx))\n",
    "        len_list -= 1\n",
    "nums = [10,509,189,66,57,3,9,5]\n",
    "remove_nums(nums)"
   ]
  },
  {
   "cell_type": "markdown",
   "metadata": {},
   "source": [
    "# 19.Write a Python program to create a tuple."
   ]
  },
  {
   "cell_type": "code",
   "execution_count": 7,
   "metadata": {},
   "outputs": [
    {
     "name": "stdout",
     "output_type": "stream",
     "text": [
      "()\n",
      "()\n"
     ]
    }
   ],
   "source": [
    "x=()\n",
    "print(x)\n",
    "pavan=tuple()\n",
    "print(pavan)"
   ]
  },
  {
   "cell_type": "markdown",
   "metadata": {},
   "source": [
    "# 20.Write a Python program to create a tuple with different data types.\n",
    "\n"
   ]
  },
  {
   "cell_type": "code",
   "execution_count": 9,
   "metadata": {},
   "outputs": [
    {
     "name": "stdout",
     "output_type": "stream",
     "text": [
      "('idiot', 100, 5.8, True, False)\n"
     ]
    }
   ],
   "source": [
    "pavan = (\"idiot\",100,5.8,True,False)\n",
    "print(pavan)"
   ]
  },
  {
   "cell_type": "markdown",
   "metadata": {},
   "source": [
    "# 21.Write a Python program to unpack a tuple in several variables.\n",
    "\n"
   ]
  },
  {
   "cell_type": "code",
   "execution_count": 15,
   "metadata": {},
   "outputs": [
    {
     "name": "stdout",
     "output_type": "stream",
     "text": [
      "(4, 3, 6)\n",
      "13\n"
     ]
    }
   ],
   "source": [
    "tuplex = 4,3,6\n",
    "print(tuplex)\n",
    "n1,j2,g2=tuplex\n",
    "print(n1+j2+g2)"
   ]
  },
  {
   "cell_type": "markdown",
   "metadata": {},
   "source": [
    "# 22.Write a Python program to add an item in a tuple.\n",
    "\n",
    "\n"
   ]
  },
  {
   "cell_type": "code",
   "execution_count": 1,
   "metadata": {},
   "outputs": [
    {
     "name": "stdout",
     "output_type": "stream",
     "text": [
      "(1, 3, 'pavan', 1, 4, 3)\n",
      "(1, 3, 'pavan', 1, 4, 3, 9)\n",
      "(1, 3, 'pavan', 1, 12, 'jf', 1, 3, 'pavan', 1)\n",
      "(1, 3, 'pavan', 1, 12, 'jf', 1, 3, 'pavan', 1, 30)\n"
     ]
    }
   ],
   "source": [
    "#create a tuple\n",
    "tuplex=(1,3,\"pavan\",1,4,3)\n",
    "print(tuplex)\n",
    "#tuples are immutable, so you can not add new elements\n",
    "#using merge of tuples with the + operator you can add an element and it will create a new tuple\n",
    "tuplex=tuplex + (9,)\n",
    "print(tuplex)\n",
    "#adding items in a specific index\n",
    "tuplex = tuplex[:4] + (12,\"jf\") + tuplex[:4]\n",
    "print(tuplex)\n",
    "#converting the tuple to list\n",
    "listx = list(tuplex) \n",
    "#use different ways to add items in list\n",
    "listx.append(30)\n",
    "tuplex = tuple(listx)\n",
    "print(tuplex)"
   ]
  },
  {
   "cell_type": "markdown",
   "metadata": {},
   "source": [
    "# 23.Write a Python program to convert a tuple to a string.\n",
    "\n"
   ]
  },
  {
   "cell_type": "code",
   "execution_count": 1,
   "metadata": {},
   "outputs": [
    {
     "name": "stdout",
     "output_type": "stream",
     "text": [
      "pavankumar\n"
     ]
    }
   ],
   "source": [
    "tup = (\"pavan\",\"kumar\")\n",
    "str = '' .join(tup)\n",
    "print(str)"
   ]
  },
  {
   "cell_type": "markdown",
   "metadata": {},
   "source": [
    "# 24.Write a Python program to get the 4th element  from last of a tuple."
   ]
  },
  {
   "cell_type": "code",
   "execution_count": 3,
   "metadata": {},
   "outputs": [
    {
     "name": "stdout",
     "output_type": "stream",
     "text": [
      "('hgh', 5, 7.4, 'h', 7, 5, 8)\n",
      "h\n",
      "h\n"
     ]
    }
   ],
   "source": [
    "#Get an item of the tuple\n",
    "tuplex = ('hgh',5,7.4,'h',7,5,8,)\n",
    "print(tuplex)\n",
    "#Get item (4th element)of the tuple by index\n",
    "item = tuplex[3]\n",
    "print(item)\n",
    "#Get item (4th element from last)by index negative\n",
    "item1 = tuplex[-4]\n",
    "print(item1)"
   ]
  },
  {
   "cell_type": "markdown",
   "metadata": {},
   "source": [
    "# 25.Write a Python program to create the colon of a tuple."
   ]
  },
  {
   "cell_type": "code",
   "execution_count": null,
   "metadata": {},
   "outputs": [],
   "source": []
  }
 ],
 "metadata": {
  "kernelspec": {
   "display_name": "Python 3",
   "language": "python",
   "name": "python3"
  },
  "language_info": {
   "codemirror_mode": {
    "name": "ipython",
    "version": 3
   },
   "file_extension": ".py",
   "mimetype": "text/x-python",
   "name": "python",
   "nbconvert_exporter": "python",
   "pygments_lexer": "ipython3",
   "version": "3.7.6"
  }
 },
 "nbformat": 4,
 "nbformat_minor": 4
}
